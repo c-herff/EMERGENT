{
 "cells": [
  {
   "cell_type": "code",
   "execution_count": 9,
   "metadata": {},
   "outputs": [],
   "source": [
    "import pandas as pd\n",
    "import numpy as np\n",
    "from Functions.LoadData import get_data\n",
    "import plotly.express as px\n",
    "import plotly.graph_objects as go\n",
    "from ipywidgets import interact, interactive, fixed, interact_manual\n",
    "import ipywidgets as widgets\n",
    "import warnings\n",
    "from tqdm.notebook import tqdm\n",
    "import webbrowser\n",
    "import os\n",
    "warnings.filterwarnings(\"ignore\", category=FutureWarning)\n",
    "warnings.simplefilter(action='ignore', category=pd.errors.PerformanceWarning)\n",
    "pd.set_option('display.max_rows', 200)\n",
    "pd.set_option('display.max_columns', 200)"
   ]
  },
  {
   "cell_type": "code",
   "execution_count": 10,
   "metadata": {},
   "outputs": [
    {
     "name": "stderr",
     "output_type": "stream",
     "text": [
      "C:\\Users\\merlin.koehler\\Desktop\\EMERGENT\\Functions\\LoadData.py:174: SettingWithCopyWarning: \n",
      "A value is trying to be set on a copy of a slice from a DataFrame\n",
      "\n",
      "See the caveats in the documentation: https://pandas.pydata.org/pandas-docs/stable/user_guide/indexing.html#returning-a-view-versus-a-copy\n",
      "  df_fine_patient_phases['end_date'].iloc[:-1]=df_fine_patient_phases['start_date'].iloc[1:]\n",
      "C:\\Users\\merlin.koehler\\Desktop\\EMERGENT\\Functions\\LoadData.py:176: SettingWithCopyWarning: \n",
      "A value is trying to be set on a copy of a slice from a DataFrame\n",
      "\n",
      "See the caveats in the documentation: https://pandas.pydata.org/pandas-docs/stable/user_guide/indexing.html#returning-a-view-versus-a-copy\n",
      "  df_fine_patient_phases['end_date'].iloc[-1]=df_combined['time'].iloc[-1]\n"
     ]
    }
   ],
   "source": [
    "df_combined, df_fine_patient_phases, medication_settings, medTimes = get_data('EM2')"
   ]
  },
  {
   "cell_type": "code",
   "execution_count": 11,
   "metadata": {},
   "outputs": [],
   "source": [
    "phases = df_fine_patient_phases['phase'].unique()\n",
    "for phase in phases:\n",
    "    start_date = df_fine_patient_phases[df_fine_patient_phases['phase'] == phase]['start_date'].values[0]\n",
    "    end_date = df_fine_patient_phases[df_fine_patient_phases['phase'] == phase]['end_date'].values[0]\n",
    "    medication = medication_settings[phase]\n",
    "\n",
    "    for date in pd.date_range(start_date, end_date):\n",
    "        for med in medication.columns[2:]:\n",
    "            for time in medication['time']:\n",
    "                #combine date and time\n",
    "                datetime = pd.to_datetime(str(date.date()) + ' ' + str(time))\n",
    "\n",
    "                # get the medication value\n",
    "                med_value = medication[medication['time'] == time][med].values[0]\n",
    "\n",
    "                # check if the medication already in df_combined as a column\n",
    "                if med not in df_combined.columns:\n",
    "                    df_combined[med] = np.nan\n",
    "\n",
    "                # add the medication value to the df_combined\n",
    "                df_combined.loc[df_combined['time'] == datetime, med] = med_value\n",
    "        \n",
    "        df_combined.loc[df_combined[med] <= 0, med] = np.nan"
   ]
  },
  {
   "cell_type": "code",
   "execution_count": 12,
   "metadata": {},
   "outputs": [],
   "source": [
    "fine_phases = df_fine_patient_phases['phase'].unique()\n",
    "dbs_change_dates = []\n",
    "\n",
    "\n",
    "for i in range(1,len(fine_phases)):\n",
    "    current_phase = df_fine_patient_phases[df_fine_patient_phases['phase'] == fine_phases[i]].iloc[:,1:-2].to_numpy()\n",
    "    previous_phase = df_fine_patient_phases[df_fine_patient_phases['phase'] == fine_phases[i-1]].iloc[:,1:-2].to_numpy()\n",
    "    if(np.any(current_phase - previous_phase) != 0):\n",
    "        dbs_change_dates.append(df_fine_patient_phases['start_date'][df_fine_patient_phases['phase'] == fine_phases[i]].iloc[0])"
   ]
  },
  {
   "cell_type": "code",
   "execution_count": 13,
   "metadata": {},
   "outputs": [],
   "source": [
    "df_dbs_settings = df_fine_patient_phases[df_fine_patient_phases['start_date'].isin(dbs_change_dates)].iloc[:,1:-2]"
   ]
  },
  {
   "cell_type": "code",
   "execution_count": 14,
   "metadata": {},
   "outputs": [],
   "source": [
    "medication_names = df_combined.columns[11:].to_list()\n",
    "medication_times = {}\n",
    "for medication in medication_names:\n",
    "    if(len(df_combined[df_combined[medication] > 0]) > 0):\n",
    "        medication_times[medication] = df_combined[df_combined[medication] > 0][['time', medication]].reset_index(drop=True)\n",
    "    else:\n",
    "        medication_names.remove(medication)"
   ]
  },
  {
   "cell_type": "code",
   "execution_count": 15,
   "metadata": {},
   "outputs": [],
   "source": [
    "def plotly_line(df_combined, dbs_change_dates, df_dbs_settings, medication_names, medication_settings, column1, column2, agregation='10min', width=1200, height=1200, result_file='line.html'):\n",
    "    df_column = pd.DataFrame()\n",
    "    df_column[column1] = df_combined[['time', column1]].groupby(pd.Grouper(freq=agregation, key='time')).mean()\n",
    "    df_column[column2] = df_combined[['time', column2]].groupby(pd.Grouper(freq=agregation, key='time')).mean()\n",
    "\n",
    "    # px.line(df_column, x=df_column.index, y=[column1, column2], title=column1 + ' and ' + column2, width=width, height=height)\n",
    "    fig = go.Figure()\n",
    "    fig.add_trace(go.Scatter(x=df_column.index, y=df_column[column1], mode='lines', name=column1))\n",
    "    fig.add_trace(go.Scatter(x=df_column.index, y=df_column[column2], mode='lines', name=column2))\n",
    "\n",
    "    for i in range(len(dbs_change_dates)):\n",
    "        date = dbs_change_dates[i]\n",
    "        fig.add_shape(type=\"line\",\n",
    "                    x0=date, y0=0, x1=date, y1=max(df_column[column1].max(), df_column[column2].max()),\n",
    "                    line=dict(color=\"red\",width=3,dash=\"dashdot\"))\n",
    "        str_annotation = ''\n",
    "        for column_name, column_value in df_dbs_settings.iloc[i,:].items():\n",
    "            str_annotation += column_name + ': ' + str(column_value) + '<br>'\n",
    "        fig.add_annotation(x=date,\n",
    "                        y=max(df_column[column1].max(), df_column[column2].max()),\n",
    "                        text=\"DBS change<br>\" + str_annotation,\n",
    "                        showarrow=True,\n",
    "                        arrowhead=1,\n",
    "                        yshift=10)\n",
    "\n",
    "\n",
    "    for medication in medication_names:\n",
    "        df_medication_date_time = medication_times[medication]\n",
    "        # Triangle marker\n",
    "        fig.add_trace(go.Scatter(x=df_medication_date_time['time'], y=[0]*len(df_medication_date_time), mode='markers', name=medication, marker=dict(color='green', size=10, symbol='triangle-up'), hovertext=df_medication_date_time[medication]))\n",
    "    \n",
    "    fig.update_layout(\n",
    "        xaxis=dict(\n",
    "            rangeselector=dict(\n",
    "                buttons=list([\n",
    "                    dict(count=1,\n",
    "                        label=\"1m\",\n",
    "                        step=\"month\",\n",
    "                        stepmode=\"backward\"),\n",
    "                    dict(count=7,\n",
    "                        label=\"1w\",\n",
    "                        step=\"day\",\n",
    "                        stepmode=\"backward\"),\n",
    "                    dict(count=1,\n",
    "                        label=\"1d\",\n",
    "                        step=\"day\",\n",
    "                        stepmode=\"backward\")\n",
    "                ])\n",
    "            ),\n",
    "            rangeslider=dict(\n",
    "                visible=True\n",
    "            ),\n",
    "            type=\"date\"\n",
    "        )\n",
    "    )\n",
    "    fig.update_layout(\n",
    "        title_text=column1 + ' and ' + column2)\n",
    "    fig.write_html(result_file)\n",
    "\n",
    "def plotly_heatmap(df_combined, dbs_change_dates, df_dbs_settings, column, agregation='15min', width=1200, height=1200, result_file='heatmap.html'):\n",
    "    df_column = df_combined[['time', column]].groupby(pd.Grouper(freq=agregation, key='time')).mean()\n",
    "\n",
    "    # split date and time: date as row, time as column\n",
    "    df_aggregated = pd.DataFrame(df_column.index.to_series().dt.date.unique(), columns=['date'])\n",
    "    df_aggregated = df_aggregated.set_index('date')\n",
    "\n",
    "    for time in df_column.index.to_series().dt.time.unique():\n",
    "        df_aggregated[time] = df_column[df_column.index.to_series().dt.time == time][column].to_numpy()\n",
    "    \n",
    "    # transpose dataframe\n",
    "    df_aggregated = df_aggregated.transpose()\n",
    "    \n",
    "    # cmap=Reds\n",
    "    fig = go.Figure()\n",
    "    #fig = px.imshow(df_aggregated, title=column, labels=dict(x=\"Time\", y=\"Date\", color=column), width=width, height=height, color_continuous_scale='Reds')\n",
    "    fig.add_trace(go.Heatmap(z=df_aggregated.to_numpy(), x=df_aggregated.columns, y=df_aggregated.index, colorscale='Reds'))\n",
    "\n",
    "    fig.update_layout(\n",
    "        xaxis=dict(\n",
    "            rangeselector=dict(\n",
    "                buttons=list([\n",
    "                    dict(count=1,\n",
    "                        label=\"1m\",\n",
    "                        step=\"month\",\n",
    "                        stepmode=\"backward\"),\n",
    "                    dict(count=7,\n",
    "                        label=\"1w\",\n",
    "                        step=\"day\",\n",
    "                        stepmode=\"backward\"),\n",
    "                    dict(count=1,\n",
    "                        label=\"1d\",\n",
    "                        step=\"day\",\n",
    "                        stepmode=\"backward\")\n",
    "                ])\n",
    "            ),\n",
    "            rangeslider=dict(\n",
    "                visible=True\n",
    "            ),\n",
    "            type=\"date\"\n",
    "        )\n",
    "    )\n",
    "    \n",
    "    for i in range(len(dbs_change_dates)):\n",
    "        date = dbs_change_dates[i]\n",
    "        #fig.add_vline(x=date, line_width=3, line_dash=\"dash\", line_color=\"red\")\n",
    "        fig.add_shape(type=\"line\",\n",
    "                    x0=date, y0=df_aggregated.index.min(), x1=date, y1=df_aggregated.index.max(),\n",
    "                    line=dict(color=\"red\",width=3,dash=\"dashdot\"))\n",
    "        \n",
    "        # for each column in df_dbs_settings.iloc[i,:]: do column_name: column_value new line\n",
    "        str_annotation = ''\n",
    "        for column_name, column_value in df_dbs_settings.iloc[i,:].items():\n",
    "            str_annotation += column_name + ': ' + str(column_value) + '<br>'\n",
    "\n",
    "        fig.add_annotation(x=date,\n",
    "                        y=df_aggregated.index.max(),\n",
    "                        text=\"DBS change:<br>\" + str_annotation,\n",
    "                        showarrow=True,\n",
    "                        arrowhead=1,\n",
    "                        yshift=10)\n",
    "\n",
    "    for medication in medication_names:\n",
    "        df_medication_date_time = medication_times[medication]\n",
    "        for date in df_medication_date_time['time'].dt.date.unique():\n",
    "            for time in df_medication_date_time[df_medication_date_time['time'].dt.date == date]['time'].dt.time.unique():\n",
    "                # no legend\n",
    "                fig.add_trace(go.Scatter(x=[date], y=[time], mode='markers', marker=dict(color='green', size=5, symbol='triangle-right'), showlegend=False, hovertext=df_medication_date_time[(df_medication_date_time['time'].dt.date == date) & (df_medication_date_time['time'].dt.time == time)][medication]))\n",
    "\n",
    "\n",
    "    # add a title\n",
    "    fig.update_layout(\n",
    "        title_text=column)\n",
    "    fig.write_html(result_file)\n",
    "\n",
    "def plot_data(df, column1, column2, medication_names, medication_settings, agregation='15min', width='1900', height='1000'):\n",
    "    width=int(width)\n",
    "    height=int(height)\n",
    "    plotly_line(df, dbs_change_dates, df_dbs_settings, medication_names, medication_settings, column1, column2, agregation, width, height,'line.html')\n",
    "    plotly_heatmap(df, dbs_change_dates, df_dbs_settings, column1, agregation, width, height,'heatmap1.html')\n",
    "    plotly_heatmap(df, dbs_change_dates, df_dbs_settings, column2, agregation, width, height,'heatmap2.html')\n",
    "\n",
    "    url = 'file://' + os.path.realpath(\"line.html\")\n",
    "    webbrowser.open(url)\n",
    "\n",
    "    url = 'file://' + os.path.realpath(\"heatmap1.html\")\n",
    "    webbrowser.open(url)\n",
    "\n",
    "    url = 'file://' + os.path.realpath(\"heatmap2.html\")\n",
    "    webbrowser.open(url)"
   ]
  },
  {
   "cell_type": "code",
   "execution_count": 16,
   "metadata": {},
   "outputs": [
    {
     "data": {
      "application/vnd.jupyter.widget-view+json": {
       "model_id": "8806c56358f645d0a9297dae5bf4493f",
       "version_major": 2,
       "version_minor": 0
      },
      "text/plain": [
       "interactive(children=(Dropdown(description='column1', options=('probability_dyskinesia', 'probability_tremor',…"
      ]
     },
     "metadata": {},
     "output_type": "display_data"
    },
    {
     "data": {
      "text/plain": [
       "<function __main__.plot_data(df, column1, column2, medication_names, medication_settings, agregation='15min', width='1900', height='1000')>"
      ]
     },
     "execution_count": 16,
     "metadata": {},
     "output_type": "execute_result"
    }
   ],
   "source": [
    "interact_manual(plot_data, df=fixed(df_combined), column1=df_combined.columns[1:-2], column2=df_combined.columns[1:-2], medication_names=fixed(medication_names), medication_settings=fixed(medication_settings), agregation=['1min', '5min', '10min', '15min', '30min', '1h', '2h', '3h', '6h', '12h', '1d'], width='1200', height='1200')"
   ]
  },
  {
   "cell_type": "code",
   "execution_count": null,
   "metadata": {},
   "outputs": [],
   "source": []
  }
 ],
 "metadata": {
  "kernelspec": {
   "display_name": "Python 3 (ipykernel)",
   "language": "python",
   "name": "python3"
  },
  "language_info": {
   "codemirror_mode": {
    "name": "ipython",
    "version": 3
   },
   "file_extension": ".py",
   "mimetype": "text/x-python",
   "name": "python",
   "nbconvert_exporter": "python",
   "pygments_lexer": "ipython3",
   "version": "3.11.5"
  },
  "vscode": {
   "interpreter": {
    "hash": "52634da84371cba311ea128a5ea7cdc41ff074b781779e754b270ff9f8153cee"
   }
  }
 },
 "nbformat": 4,
 "nbformat_minor": 4
}
