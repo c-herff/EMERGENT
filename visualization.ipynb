{
 "cells": [
  {
   "cell_type": "code",
   "execution_count": 31,
   "metadata": {},
   "outputs": [],
   "source": [
    "import pandas as pd\n",
    "import numpy as np\n",
    "from Functions.LoadData import get_data\n",
    "import plotly.express as px\n",
    "from ipywidgets import interact, interactive, fixed, interact_manual\n",
    "import ipywidgets as widgets\n",
    "import warnings\n",
    "warnings.filterwarnings(\"ignore\", category=FutureWarning)\n",
    "warnings.simplefilter(action='ignore', category=pd.errors.PerformanceWarning)"
   ]
  },
  {
   "cell_type": "code",
   "execution_count": 19,
   "metadata": {},
   "outputs": [],
   "source": [
    "df_combined, df_fine_patient_phases, medication_settings = get_data('EM2')"
   ]
  },
  {
   "cell_type": "code",
   "execution_count": 20,
   "metadata": {},
   "outputs": [],
   "source": [
    "fine_phases = df_fine_patient_phases['phase'].unique()\n",
    "dbs_change_dates = []\n",
    "\n",
    "\n",
    "for i in range(1,len(fine_phases)):\n",
    "    current_phase = df_fine_patient_phases[df_fine_patient_phases['phase'] == fine_phases[i]].iloc[:,2:].to_numpy()\n",
    "    previous_phase = df_fine_patient_phases[df_fine_patient_phases['phase'] == fine_phases[i-1]].iloc[:,2:].to_numpy()\n",
    "\n",
    "    if(np.any(current_phase - previous_phase) != 0):\n",
    "        dbs_change_dates.append(df_fine_patient_phases['date'][df_fine_patient_phases['phase'] == fine_phases[i]].iloc[0])"
   ]
  },
  {
   "cell_type": "code",
   "execution_count": 21,
   "metadata": {},
   "outputs": [],
   "source": [
    "df_dbs_settings = df_fine_patient_phases[df_fine_patient_phases['date'].isin(dbs_change_dates)].iloc[:,2:]"
   ]
  },
  {
   "cell_type": "code",
   "execution_count": 28,
   "metadata": {},
   "outputs": [],
   "source": [
    "def plotly_line(df_combined, dbs_change_dates, df_dbs_settings, column, agregation='10min', width=1200, height=1200):\n",
    "    df_column = df_combined[['time', column]].groupby(pd.Grouper(freq=agregation, key='time')).mean()\n",
    "\n",
    "    fig = px.line(df_column, x=df_column.index, y=column, title=column, line_shape='hv', width=width, height=height)\n",
    "    for i in range(len(dbs_change_dates)):\n",
    "        date = dbs_change_dates[i]\n",
    "        fig.add_vline(x=date, line_width=3, line_dash=\"dash\", line_color=\"red\")\n",
    "        \n",
    "        # for each column in df_dbs_settings.iloc[i,:]: do column_name: column_value new line\n",
    "        str_annotation = ''\n",
    "        for column_name, column_value in df_dbs_settings.iloc[i,:].items():\n",
    "            str_annotation += column_name + ': ' + str(column_value) + '<br>'\n",
    "\n",
    "        fig.add_annotation(x=date,\n",
    "                        y=df_column[column].max(),\n",
    "                        text=\"DBS change:<br>\" + str_annotation,\n",
    "                        showarrow=True,\n",
    "                        arrowhead=1,\n",
    "                        yshift=10)\n",
    "    \n",
    "    fig.update_layout(\n",
    "        xaxis=dict(\n",
    "            rangeselector=dict(\n",
    "                buttons=list([\n",
    "                    dict(count=1,\n",
    "                        label=\"1m\",\n",
    "                        step=\"month\",\n",
    "                        stepmode=\"backward\"),\n",
    "                    dict(count=7,\n",
    "                        label=\"1w\",\n",
    "                        step=\"day\",\n",
    "                        stepmode=\"backward\"),\n",
    "                    dict(count=1,\n",
    "                        label=\"1d\",\n",
    "                        step=\"day\",\n",
    "                        stepmode=\"backward\")\n",
    "                ])\n",
    "            ),\n",
    "            rangeslider=dict(\n",
    "                visible=True\n",
    "            ),\n",
    "            type=\"date\"\n",
    "        )\n",
    "    )            \n",
    "\n",
    "    fig.write_html(\"plot1.html\")\n",
    "    fig.show()\n",
    "\n",
    "def plotly_heatmap(df_combined, dbs_change_dates, df_dbs_settings, column, agregation='15min', width=1200, height=1200):\n",
    "    df_column = df_combined[['time', column]].groupby(pd.Grouper(freq=agregation, key='time')).mean()\n",
    "\n",
    "    # split date and time: date as row, time as column\n",
    "    df_aggregated = pd.DataFrame(df_column.index.to_series().dt.date.unique(), columns=['date'])\n",
    "    df_aggregated = df_aggregated.set_index('date')\n",
    "\n",
    "    for time in df_column.index.to_series().dt.time.unique():\n",
    "        df_aggregated[time] = df_column[df_column.index.to_series().dt.time == time][column].to_numpy()\n",
    "    \n",
    "    # transpose dataframe\n",
    "    df_aggregated = df_aggregated.transpose()\n",
    "    df_aggregated = df_aggregated.iloc[::-1]\n",
    "    \n",
    "    # cmap=Reds\n",
    "    fig = px.imshow(df_aggregated, title=column, labels=dict(x=\"Time\", y=\"Date\", color=column), width=width, height=height, color_continuous_scale='Reds')\n",
    "\n",
    "    fig.update_layout(\n",
    "        xaxis=dict(\n",
    "            rangeselector=dict(\n",
    "                buttons=list([\n",
    "                    dict(count=1,\n",
    "                        label=\"1m\",\n",
    "                        step=\"month\",\n",
    "                        stepmode=\"backward\"),\n",
    "                    dict(count=7,\n",
    "                        label=\"1w\",\n",
    "                        step=\"day\",\n",
    "                        stepmode=\"backward\"),\n",
    "                    dict(count=1,\n",
    "                        label=\"1d\",\n",
    "                        step=\"day\",\n",
    "                        stepmode=\"backward\")\n",
    "                ])\n",
    "            ),\n",
    "            rangeslider=dict(\n",
    "                visible=True\n",
    "            ),\n",
    "            type=\"date\"\n",
    "        )\n",
    "    )\n",
    "    \n",
    "    for i in range(len(dbs_change_dates)):\n",
    "        date = dbs_change_dates[i]\n",
    "        fig.add_vline(x=date, line_width=3, line_dash=\"dash\", line_color=\"red\")\n",
    "        \n",
    "        # for each column in df_dbs_settings.iloc[i,:]: do column_name: column_value new line\n",
    "        str_annotation = ''\n",
    "        for column_name, column_value in df_dbs_settings.iloc[i,:].items():\n",
    "            str_annotation += column_name + ': ' + str(column_value) + '<br>'\n",
    "\n",
    "        fig.add_annotation(x=date,\n",
    "                        y=df_aggregated.index.max(),\n",
    "                        text=\"DBS change:<br>\" + str_annotation,\n",
    "                        showarrow=True,\n",
    "                        arrowhead=1,\n",
    "                        yshift=10)\n",
    "    \n",
    "    fig.write_html(\"plot2.html\")\n",
    "    fig.show()\n",
    "\n",
    "def plot_data(df, column, agregation='10min', width='1200', height='1200'):\n",
    "    width=int(width)\n",
    "    height=int(height)\n",
    "    plotly_line(df, dbs_change_dates, df_dbs_settings, column, agregation, width, height)\n",
    "    plotly_heatmap(df, dbs_change_dates, df_dbs_settings, column, agregation, width, height),\n",
    "\n",
    "    "
   ]
  },
  {
   "cell_type": "code",
   "execution_count": 34,
   "metadata": {},
   "outputs": [
    {
     "data": {
      "application/vnd.jupyter.widget-view+json": {
       "model_id": "320bf4d7f86e472da865d1872b38f640",
       "version_major": 2,
       "version_minor": 0
      },
      "text/plain": [
       "interactive(children=(Dropdown(description='column', options=('probability_dyskinesia', 'probability_tremor', …"
      ]
     },
     "metadata": {},
     "output_type": "display_data"
    },
    {
     "data": {
      "text/plain": [
       "<function __main__.plot_data(df, column, agregation='10min', width='1200', height='1200')>"
      ]
     },
     "execution_count": 34,
     "metadata": {},
     "output_type": "execute_result"
    }
   ],
   "source": [
    "interact(plot_data, df=fixed(df_combined), column=df_combined.columns[1:-2], agregation=['1min', '5min', '10min', '15min', '30min', '1h', '2h', '3h', '6h', '12h', '1d'], width='1200', height='1200')"
   ]
  },
  {
   "cell_type": "code",
   "execution_count": 30,
   "metadata": {},
   "outputs": [
    {
     "data": {
      "text/plain": [
       "True"
      ]
     },
     "execution_count": 30,
     "metadata": {},
     "output_type": "execute_result"
    },
    {
     "data": {
      "text/plain": [
       "True"
      ]
     },
     "execution_count": 30,
     "metadata": {},
     "output_type": "execute_result"
    }
   ],
   "source": [
    "import webbrowser\n",
    "import os\n",
    "\n",
    "# generate an URL\n",
    "url = 'file://' + os.path.realpath(\"plot1.html\")\n",
    "webbrowser.open(url)\n",
    "\n",
    "url = 'file://' + os.path.realpath(\"plot2.html\")\n",
    "webbrowser.open(url)"
   ]
  },
  {
   "cell_type": "code",
   "execution_count": null,
   "metadata": {},
   "outputs": [],
   "source": []
  },
  {
   "cell_type": "code",
   "execution_count": null,
   "metadata": {},
   "outputs": [],
   "source": []
  }
 ],
 "metadata": {
  "kernelspec": {
   "display_name": "Python 3 (ipykernel)",
   "language": "python",
   "name": "python3"
  },
  "language_info": {
   "codemirror_mode": {
    "name": "ipython",
    "version": 3
   },
   "file_extension": ".py",
   "mimetype": "text/x-python",
   "name": "python",
   "nbconvert_exporter": "python",
   "pygments_lexer": "ipython3",
   "version": "3.11.5"
  },
  "vscode": {
   "interpreter": {
    "hash": "52634da84371cba311ea128a5ea7cdc41ff074b781779e754b270ff9f8153cee"
   }
  }
 },
 "nbformat": 4,
 "nbformat_minor": 4
}
